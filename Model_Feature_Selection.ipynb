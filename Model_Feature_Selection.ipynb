{
 "cells": [
  {
   "cell_type": "markdown",
   "metadata": {},
   "source": [
    "### 2. Model, Feature Selection"
   ]
  },
  {
   "cell_type": "code",
   "execution_count": 2,
   "metadata": {
    "collapsed": true
   },
   "outputs": [],
   "source": [
    "from sklearn.feature_extraction.text import CountVectorizer, TfidfTransformer\n",
    "from sklearn.cross_validation import StratifiedKFold\n",
    "from sklearn.naive_bayes import MultinomialNB\n",
    "from matplotlib.pyplot import axvline, axhline\n",
    "from sklearn.metrics import precision_score, accuracy_score, recall_score"
   ]
  },
  {
   "cell_type": "code",
   "execution_count": 11,
   "metadata": {
    "collapsed": false
   },
   "outputs": [],
   "source": [
    "%run Data_Preprocessing.ipynb"
   ]
  },
  {
   "cell_type": "code",
   "execution_count": 77,
   "metadata": {
    "collapsed": false
   },
   "outputs": [
    {
     "name": "stdout",
     "output_type": "stream",
     "text": [
      "baseline score => 0.33\n"
     ]
    }
   ],
   "source": [
    "from sklearn.metrics import roc_auc_score, accuracy_score\n",
    "from sklearn.dummy import DummyClassifier \n",
    "# baseline confirmation, implying that model has to perform at least as good as it\n",
    "# since all 3 classes respectively have 100 samples, baseline performance is 0.33\n",
    "clf_dummy = DummyClassifier(strategy='most_frequent')\n",
    "clf_dummy = clf_dummy.fit(X_train_, y_train_)\n",
    "print('baseline score =>', round(clf.score(X_validation, y_validation), 2))"
   ]
  },
  {
   "cell_type": "code",
   "execution_count": 76,
   "metadata": {
    "collapsed": false
   },
   "outputs": [
    {
     "data": {
      "image/png": "[encoded data removed]",
      "text/plain": [
       "<matplotlib.figure.Figure at 0x212089b0>"
      ]
     },
     "metadata": {},
     "output_type": "display_data"
    }
   ],
   "source": [
    "# go through cross validation \n",
    "# search optimal parameter that maximizes classification performance\n",
    "\n",
    "cv = StratifiedKFold(y_train, n_folds=10, random_state=0)\n",
    "score_range = []\n",
    "parameter_range = []\n",
    "\n",
    "for parameter in np.arange(-1e-4, 1e-4, 1e-5):\n",
    "    clf_MNB = MultinomialNB(alpha=parameter)\n",
    "    scores = np.zeros(10)\n",
    "\n",
    "    for i, (train_idx, validation_idx) in enumerate(cv):\n",
    "        X_train_ = X_train_tfidf[train_idx]\n",
    "        y_train_ = y_train[train_idx]\n",
    "        X_validation = X_train_tfidf[validation_idx]\n",
    "        y_validation = y_train[validation_idx]\n",
    "        \n",
    "        clf_MNB.fit(X_train_, y_train_)\n",
    "        y_predicted = clf_MNB.predict(X_validation)\n",
    "        scores = round(accuracy_score(y_predicted, y_validation), 2)\n",
    "        \n",
    "    score_range.append(scores)\n",
    "    parameter_range.append(parameter)\n",
    "    dictionary = dict(zip(parameter_range, score_range))\n",
    "\n",
    "\n",
    "plt.figure(figsize = (10, 3))\n",
    "plt.plot(parameter_range, score_range, color='#E85285', label='accuracy: %(n)0.2f \\nalpha: %(v)0.5f' % \n",
    "         {'n': max(dictionary.values()), \n",
    "          'v': max(dictionary.items(), key=lambda x: x[1])[0] })\n",
    "plt.xlabel('alpha')\n",
    "plt.ylabel('accuracy')\n",
    "plt.legend(loc='lower right', prop={'size':12})\n",
    "plt.scatter([max(dictionary.items(), key=lambda x: x[1])[0], ], [max(dictionary.values()), ], 80, color='#E85285')\n",
    "axhline(max(dictionary.values()), color='#E85285', linewidth=1, linestyle='--')\n",
    "axvline(max(dictionary.items(), key=lambda x: x[1])[0], color='#E85285', linewidth=1, linestyle='--')\n",
    "plt.xlim(min(parameter_range), max(parameter_range))\n",
    "plt.ylim(min(score_range)*0.8, max(score_range)*1.2);"
   ]
  },
  {
   "cell_type": "code",
   "execution_count": 58,
   "metadata": {
    "collapsed": false
   },
   "outputs": [],
   "source": [
    "# fit train data to the classifier with alpha being 0.00004\n",
    "clf_MNB = MultinomialNB(alpha=0.00004)\n",
    "clf_MNB.fit(X_train_, y_train_)\n",
    "y_predicted = clf_MNB.predict(X_validation)"
   ]
  },
  {
   "cell_type": "code",
   "execution_count": 89,
   "metadata": {
    "collapsed": false
   },
   "outputs": [
    {
     "name": "stdout",
     "output_type": "stream",
     "text": [
      "                      precision    recall  f1-score   support\n",
      "\n",
      "  (0) Data Scientist       0.91      1.00      0.95        10\n",
      "(1) Digital Marketer       0.82      0.90      0.86        10\n",
      "  (2) UX/UI Designer       1.00      0.80      0.89        10\n",
      "\n",
      "         avg / total       0.91      0.90      0.90        30\n",
      "\n"
     ]
    }
   ],
   "source": [
    "# print classification report to see the performancce of classifier\n",
    "# we can see that the model has well classified class 0, data scientist.\n",
    "# precision(0.91), recall(0.90), f1-score(0.90), accuracy(0.9) all far outperform the baseline (0.33).\n",
    "# Though four types of scores are very similar to each other, I will focus on 'accuracy' on this project\n",
    "from sklearn.metrics import classification_report, confusion_matrix\n",
    "target_names = ['(0) Data Scientist', '(1) Digital Marketer', '(2) UX/UI Designer']\n",
    "print(classification_report(y_validation, y_predicted, target_names=target_names))"
   ]
  },
  {
   "cell_type": "code",
   "execution_count": 67,
   "metadata": {
    "collapsed": false
   },
   "outputs": [
    {
     "name": "stdout",
     "output_type": "stream",
     "text": [
      "[[10  0  0]\n",
      " [ 1  9  0]\n",
      " [ 0  2  8]]\n"
     ]
    },
    {
     "data": {
      "text/plain": [
       "<matplotlib.text.Text at 0x215b5898>"
      ]
     },
     "execution_count": 67,
     "metadata": {},
     "output_type": "execute_result"
    },
    {
     "data": {
      "image/png": "[encoded data removed]",
      "text/plain": [
       "<matplotlib.figure.Figure at 0x2099a240>"
      ]
     },
     "metadata": {},
     "output_type": "display_data"
    }
   ],
   "source": [
    "# this is pretty much the same as above\n",
    "cm = confusion_matrix(y_validation, y_predicted)\n",
    "print(cm)\n",
    "plt.grid(False)\n",
    "plt.imshow(cm, interpolation='nearest', cmap=plt.cm.Blues)\n",
    "plt.title('Confusion matrix')\n",
    "plt.colorbar()\n",
    "tick_marks = np.arange(len(target_names))\n",
    "plt.xticks(tick_marks, target_names, rotation=45)\n",
    "plt.yticks(tick_marks, target_names)\n",
    "plt.tight_layout()\n",
    "plt.ylabel('True label')\n",
    "plt.xlabel('Predicted label')"
   ]
  },
  {
   "cell_type": "code",
   "execution_count": 90,
   "metadata": {
    "collapsed": true
   },
   "outputs": [],
   "source": [
    "# use pipeline to tune parameters of countvectorizer, tfidftransformer, and multinomial Naive Bayes simultaneously\n",
    "# parameter tuning itself can be done by aid of GridSearhCV below\n",
    "from sklearn.pipeline import Pipeline\n",
    "pipeline_clf_train = Pipeline(\n",
    "    steps=[\n",
    "        ('vect', CountVectorizer()),\n",
    "        ('tfidf', TfidfTransformer()),\n",
    "        ('clf_MNB', MultinomialNB()),\n",
    "    ]\n",
    ")"
   ]
  },
  {
   "cell_type": "code",
   "execution_count": null,
   "metadata": {
    "collapsed": true
   },
   "outputs": [],
   "source": [
    "# the intention of including bigram is to extract noun phrasse, if necessary\n",
    "# tfidf__use_idf: False was quite suprising.\n",
    "\n",
    "from sklearn.grid_search import GridSearchCV\n",
    "parameters = {\n",
    "    'vect__ngram_range': [(1, 1), (1, 2)],\n",
    "    'tfidf__use_idf' : [True, False],\n",
    "    'clf_MNB__alpha' : np.arange(0, 0.00005, 0.000005),\n",
    "}\n",
    "gs_clf = GridSearchCV(pipeline_clf_train, parameters, n_jobs=-1)\n",
    "gs_clf = gs_clf.fit(X_train, y_train)"
   ]
  },
  {
   "cell_type": "code",
   "execution_count": 93,
   "metadata": {
    "collapsed": false
   },
   "outputs": [
    {
     "name": "stdout",
     "output_type": "stream",
     "text": [
      "clf_MNB__alpha: 1.5000000000000002e-05\n",
      "tfidf__use_idf: False\n",
      "vect__ngram_range: (1, 1)\n",
      "------------------------------\n",
      "score : 0.97\n"
     ]
    }
   ],
   "source": [
    "best_parameters, score, _ = max(gs_clf.grid_scores_, key=lambda x: x[1])\n",
    "for param_name in sorted(parameters.keys()):\n",
    "    print(\"%s: %r\" % (param_name, best_parameters[param_name]))\n",
    "print('------------------------------')\n",
    "print('score :', score.round(2))"
   ]
  }
 ],
 "metadata": {
  "kernelspec": {
   "display_name": "Python 2",
   "language": "python",
   "name": "python2"
  },
  "language_info": {
   "codemirror_mode": {
    "name": "ipython",
    "version": 2
   },
   "file_extension": ".py",
   "mimetype": "text/x-python",
   "name": "python",
   "nbconvert_exporter": "python",
   "pygments_lexer": "ipython2",
   "version": "2.7.11"
  }
 },
 "nbformat": 4,
 "nbformat_minor": 0
}
